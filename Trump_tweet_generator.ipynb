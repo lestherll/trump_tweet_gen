{
  "nbformat": 4,
  "nbformat_minor": 0,
  "metadata": {
    "colab": {
      "name": "Trump tweet generator",
      "provenance": [],
      "collapsed_sections": [],
      "include_colab_link": true
    },
    "kernelspec": {
      "name": "python3",
      "display_name": "Python 3"
    }
  },
  "cells": [
    {
      "cell_type": "markdown",
      "metadata": {
        "id": "view-in-github",
        "colab_type": "text"
      },
      "source": [
        "<a href=\"https://colab.research.google.com/github/lestherll/trump_tweet_gen/blob/main/Trump_tweet_generator.ipynb\" target=\"_parent\"><img src=\"https://colab.research.google.com/assets/colab-badge.svg\" alt=\"Open In Colab\"/></a>"
      ]
    },
    {
      "cell_type": "code",
      "metadata": {
        "id": "Eili0qdt0Iqi"
      },
      "source": [
        "%tensorflow_version 1.x"
      ],
      "execution_count": null,
      "outputs": []
    },
    {
      "cell_type": "code",
      "metadata": {
        "id": "xKcnRA3U0NcE"
      },
      "source": [
        "!pip install -q textgenrnn\r\n",
        "from google.colab import files\r\n",
        "from textgenrnn import textgenrnn\r\n",
        "from datetime import datetime\r\n",
        "import os"
      ],
      "execution_count": null,
      "outputs": []
    },
    {
      "cell_type": "code",
      "metadata": {
        "id": "J6ADKfz60NY3"
      },
      "source": [
        "textgen = textgenrnn()"
      ],
      "execution_count": null,
      "outputs": []
    },
    {
      "cell_type": "code",
      "metadata": {
        "colab": {
          "base_uri": "https://localhost:8080/"
        },
        "id": "a-hKxn390NJr",
        "outputId": "dcbc3b8b-a4a3-4811-fccb-4504fd74daef"
      },
      "source": [
        "textgen.generate(5)"
      ],
      "execution_count": null,
      "outputs": [
        {
          "output_type": "stream",
          "text": [
            "WARNING:tensorflow:From /tensorflow-1.15.2/python3.6/keras/backend/tensorflow_backend.py:422: The name tf.global_variables is deprecated. Please use tf.compat.v1.global_variables instead.\n",
            "\n",
            "[Spoilers] The Library For The World Trailer | Local Campaign!\n",
            "\n",
            "So I think I just affect a bad friend with a group of my ex-cat.\n",
            "\n",
            "The Internet Channel ban for ESO Mario on the fact of computer which is a supermore to his forever from the court song. Any ideas in the competition\n",
            "\n",
            "What the fuck is this possible when I was in my dad games and a head to push me to disable and who stopped in cheap states in a birthday by its important electrical with the first time in a fire.\n",
            "\n",
            "Sword on electric experience for a bit of the new minutes\n",
            "\n"
          ],
          "name": "stdout"
        }
      ]
    },
    {
      "cell_type": "code",
      "metadata": {
        "colab": {
          "base_uri": "https://localhost:8080/"
        },
        "id": "X7AabHE80sUA",
        "outputId": "1661b5b3-898b-4629-f618-232a79bbab3c"
      },
      "source": [
        "generated_texts = textgen.generate(n=1, prefix=\"Trump\", temperature=0.2, return_as_list=True)\r\n",
        "print(generated_texts)"
      ],
      "execution_count": null,
      "outputs": [
        {
          "output_type": "stream",
          "text": [
            "['Trump and Mario on the state of the season that she was a lot of the story of the background of the state of the strangers of the same story of the world is a bit of the state of the state of the park of the state of the same time.']\n"
          ],
          "name": "stdout"
        }
      ]
    }
  ]
}